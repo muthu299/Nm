{
  "nbformat": 4,
  "nbformat_minor": 0,
  "metadata": {
    "colab": {
      "private_outputs": true,
      "provenance": [],
      "authorship_tag": "ABX9TyNEqV85Zq+vCTdTl9gtEvk2",
      "include_colab_link": true
    },
    "kernelspec": {
      "name": "python3",
      "display_name": "Python 3"
    },
    "language_info": {
      "name": "python"
    }
  },
  "cells": [
    {
      "cell_type": "markdown",
      "metadata": {
        "id": "view-in-github",
        "colab_type": "text"
      },
      "source": [
        "<a href=\"https://colab.research.google.com/github/muthu299/Nm/blob/main/Untitled13.ipynb\" target=\"_parent\"><img src=\"https://colab.research.google.com/assets/colab-badge.svg\" alt=\"Open In Colab\"/></a>"
      ]
    },
    {
      "cell_type": "code",
      "execution_count": null,
      "metadata": {
        "id": "7h-kFnx4OK7P"
      },
      "outputs": [],
      "source": [
        "# Step 1: Install dependencies (if needed)\n",
        "!pip install -q pandas scikit-learn matplotlib seaborn sqlite3\n",
        "\n",
        "# Step 2: Import necessary libraries\n",
        "import pandas as pd\n",
        "import sqlite3\n",
        "import matplotlib.pyplot as plt\n",
        "import seaborn as sns\n",
        "from sklearn.ensemble import RandomForestClassifier\n",
        "from sklearn.model_selection import train_test_split\n",
        "from sklearn.metrics import classification_report, accuracy_score, confusion_matrix\n",
        "\n",
        "# Step 3: Create or load dataset\n",
        "# Sample dataset (replace with your actual CSV or data source)\n",
        "data = {\n",
        "    'Weather_Condition': ['Clear', 'Rain', 'Snow', 'Clear', 'Fog'],\n",
        "    'Road_Surface': ['Dry', 'Wet', 'Snowy', 'Dry', 'Wet'],\n",
        "    'Light_Condition': ['Daylight', 'Darkness', 'Daylight', 'Darkness', 'Daylight'],\n",
        "    'Speed_Limit': [60, 50, 30, 70, 40],\n",
        "    'Severity': [0, 1, 1, 0, 1]  # 0 = Minor, 1 = Severe\n",
        "}\n",
        "df = pd.DataFrame(data)\n",
        "\n",
        "# Step 4: Save to SQLite database\n",
        "conn = sqlite3.connect('accidents.db')\n",
        "df.to_sql('accidents', conn, if_exists='replace', index=False)\n",
        "\n",
        "# Step 5: Read from SQLite\n",
        "query = \"SELECT * FROM accidents\"\n",
        "df = pd.read_sql(query, conn)\n",
        "\n",
        "# Step 6: Preprocessing (convert categorical to numeric)\n",
        "df_encoded = pd.get_dummies(df.drop('Severity', axis=1))\n",
        "X = df_encoded\n",
        "y = df['Severity']\n",
        "\n",
        "# Step 7: Train/test split\n",
        "X_train, X_test, y_train, y_test = train_test_split(X, y, test_size=0.2, random_state=42)\n",
        "\n",
        "# Step 8: Train model\n",
        "model = RandomForestClassifier(n_estimators=100, random_state=42)\n",
        "model.fit(X_train, y_train)\n",
        "\n",
        "# Step 9: Predict and evaluate\n",
        "y_pred = model.predict(X_test)\n",
        "print(\"Accuracy:\", accuracy_score(y_test, y_pred))\n",
        "print(\"Classification Report:\\n\", classification_report(y_test, y_pred))\n",
        "\n",
        "# Step 10: Confusion Matrix Visualization\n",
        "cm = confusion_matrix(y_test, y_pred)\n",
        "sns.heatmap(cm, annot=True, fmt='d', cmap='Blues', xticklabels=[\"Minor\", \"Severe\"], yticklabels=[\"Minor\", \"Severe\"])\n",
        "plt.xlabel('Predicted')\n",
        "plt.ylabel('Actual')\n",
        "plt.title('Accident Severity Prediction - Confusion Matrix')\n",
        "plt.show()\n",
        "\n",
        "# Step 11: Feature importance\n",
        "features = pd.Series(model.feature_importances_, index=X.columns)\n",
        "features.sort_values(ascending=False).plot(kind='bar', title='Feature Importance')\n",
        "plt.tight_layout()\n",
        "plt.show()"
      ]
    }
  ]
}